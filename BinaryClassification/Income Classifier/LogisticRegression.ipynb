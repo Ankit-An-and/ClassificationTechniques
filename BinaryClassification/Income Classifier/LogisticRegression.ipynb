{
 "cells": [
  {
   "cell_type": "code",
   "execution_count": 1,
   "metadata": {},
   "outputs": [],
   "source": [
    "from ipynb.fs.full.Common import evaluate\n",
    "import pandas as pd\n",
    "import numpy as np\n",
    "from sklearn.linear_model import LogisticRegression\n",
    "import joblib"
   ]
  },
  {
   "cell_type": "code",
   "execution_count": 2,
   "metadata": {},
   "outputs": [],
   "source": [
    "# Read data\n",
    "\n",
    "loaded = np.load('adult_income_data.npz', allow_pickle=True)\n",
    "\n",
    "# Split Data\n",
    "\n",
    "X_train = loaded['Xtrain']\n",
    "X_test = loaded['Xtest']\n",
    "y_train = loaded['ytrain']\n",
    "y_test = loaded['ytest']"
   ]
  },
  {
   "cell_type": "code",
   "execution_count": 3,
   "metadata": {},
   "outputs": [],
   "source": [
    "# Logistic Regression Classifier\n",
    "\n",
    "lr = LogisticRegression()\n",
    "model = lr.fit(X_train, y_train)"
   ]
  },
  {
   "cell_type": "code",
   "execution_count": 4,
   "metadata": {},
   "outputs": [
    {
     "name": "stdout",
     "output_type": "stream",
     "text": [
      "Classification Report:\n",
      "              precision    recall  f1-score   support\n",
      "\n",
      "           0       0.79      0.97      0.87      4508\n",
      "           1       0.72      0.26      0.38      1525\n",
      "\n",
      "    accuracy                           0.79      6033\n",
      "   macro avg       0.76      0.61      0.63      6033\n",
      "weighted avg       0.78      0.79      0.75      6033\n",
      "\n",
      "\n",
      "Confusion Matrix:\n",
      "[[4358  150]\n",
      " [1132  393]]\n",
      "\n",
      "Accuracy Score:\n",
      "0.7875020719376761\n",
      "\n"
     ]
    }
   ],
   "source": [
    "# Evaluation\n",
    "evaluate(y_test, pred)"
   ]
  },
  {
   "cell_type": "code",
   "execution_count": null,
   "metadata": {},
   "outputs": [],
   "source": []
  }
 ],
 "metadata": {
  "kernelspec": {
   "display_name": "Python 3",
   "language": "python",
   "name": "python3"
  },
  "language_info": {
   "codemirror_mode": {
    "name": "ipython",
    "version": 3
   },
   "file_extension": ".py",
   "mimetype": "text/x-python",
   "name": "python",
   "nbconvert_exporter": "python",
   "pygments_lexer": "ipython3",
   "version": "3.8.5"
  }
 },
 "nbformat": 4,
 "nbformat_minor": 4
}
