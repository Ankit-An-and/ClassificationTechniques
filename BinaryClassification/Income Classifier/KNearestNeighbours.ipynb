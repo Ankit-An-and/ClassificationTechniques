{
 "cells": [
  {
   "cell_type": "code",
   "execution_count": 1,
   "metadata": {},
   "outputs": [],
   "source": [
    "from ipynb.fs.full.Common import evaluate\n",
    "import pandas as pd\n",
    "import numpy as np\n",
    "from sklearn.neighbors import KNeighborsClassifier\n",
    "from sklearn.metrics import accuracy_score\n",
    "import joblib"
   ]
  },
  {
   "cell_type": "code",
   "execution_count": 2,
   "metadata": {},
   "outputs": [],
   "source": [
    "# Read data\n",
    "\n",
    "loaded = np.load('adult_income_data.npz', allow_pickle=True)\n",
    "\n",
    "# Split Data\n",
    "\n",
    "X_train = loaded['Xtrain']\n",
    "X_test = loaded['Xtest']\n",
    "y_train = loaded['ytrain']\n",
    "y_test = loaded['ytest']"
   ]
  },
  {
   "cell_type": "code",
   "execution_count": 3,
   "metadata": {},
   "outputs": [
    {
     "name": "stdout",
     "output_type": "stream",
     "text": [
      "1 : 0.7162274158793304\n",
      "2 : 0.7709265705287585\n",
      "3 : 0.7467263384717387\n",
      "4 : 0.7747389358528095\n",
      "5 : 0.7588264545002487\n",
      "6 : 0.7772252610641472\n",
      "7 : 0.7702635504724018\n",
      "8 : 0.7813691364163766\n",
      "9 : 0.7792143212332173\n",
      "10 : 0.7841869716558926\n",
      "11 : 0.7823636665009116\n",
      "12 : 0.7856787667826952\n",
      "13 : 0.78269517652909\n",
      "14 : 0.7846842366981601\n",
      "15 : 0.7835239515995359\n",
      "16 : 0.7853472567545168\n",
      "17 : 0.7850157467263384\n",
      "18 : 0.7860102768108735\n",
      "19 : 0.7860102768108735\n"
     ]
    }
   ],
   "source": [
    "# K Nearest Neighbours Classifier\n",
    "\n",
    "accuracy_final = 0\n",
    "pred_final = []\n",
    "n = 1\n",
    "\n",
    "for i in range(1, 20):\n",
    "    knn = KNeighborsClassifier(n_neighbors=i)\n",
    "    model = knn.fit(X_train, y_train)\n",
    "    pred = model.predict(X_test)\n",
    "    accuracy = accuracy_score(y_test, pred)\n",
    "    print(str(i) + \" : \" + str(accuracy))\n",
    "    if accuracy > accuracy_final:\n",
    "        accuracy_final = accuracy\n",
    "        model_final = model"
   ]
  },
  {
   "cell_type": "code",
   "execution_count": 4,
   "metadata": {},
   "outputs": [
    {
     "data": {
      "text/plain": [
       "['adult_income_knn.joblib']"
      ]
     },
     "execution_count": 4,
     "metadata": {},
     "output_type": "execute_result"
    }
   ],
   "source": [
    "# Save Model\n",
    "\n",
    "joblib.dump(model_final, 'adult_income_knn.joblib')"
   ]
  }
 ],
 "metadata": {
  "kernelspec": {
   "display_name": "Python 3",
   "language": "python",
   "name": "python3"
  },
  "language_info": {
   "codemirror_mode": {
    "name": "ipython",
    "version": 3
   },
   "file_extension": ".py",
   "mimetype": "text/x-python",
   "name": "python",
   "nbconvert_exporter": "python",
   "pygments_lexer": "ipython3",
   "version": "3.8.5"
  }
 },
 "nbformat": 4,
 "nbformat_minor": 4
}
