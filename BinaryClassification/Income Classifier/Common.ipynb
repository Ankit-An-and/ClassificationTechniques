{
 "cells": [
  {
   "cell_type": "code",
   "execution_count": 1,
   "metadata": {},
   "outputs": [],
   "source": [
    "# Read Data\n",
    "\n",
    "import numpy as np\n",
    "import pandas as pd\n",
    "from sklearn.model_selection import train_test_split\n",
    "name = ['age', 'workclass', 'fnlwgt', 'education', 'education-num', 'marital-status', 'occupation', 'relationship', 'race', 'sex', 'capital-gain', 'capital-loss', 'hours-per-week', 'native-country', 'income']\n",
    "df = pd.read_csv('adult.data', names = name)"
   ]
  },
  {
   "cell_type": "code",
   "execution_count": 2,
   "metadata": {},
   "outputs": [],
   "source": [
    "def preprocess_data(df):\n",
    "    \n",
    "    # Replace junk data with null and drop\n",
    "\n",
    "    df = df.replace(' ?', np.nan)\n",
    "    df = df.dropna().reset_index(drop=True)\n",
    "    \n",
    "    # Drop Columns\n",
    "\n",
    "    drop_columns = ['education']\n",
    "    df = df.drop(drop_columns, axis=1)\n",
    "    \n",
    "    # Column encoding\n",
    "    column_names_for_onehot = ['workclass', 'marital-status', 'occupation', 'relationship', 'race', 'sex', 'native-country']\n",
    "    df = pd.get_dummies(df, columns=column_names_for_onehot, drop_first=True)\n",
    "    \n",
    "    drop_columns = ['income']\n",
    "    X = df.drop(drop_columns, axis=1)\n",
    "\n",
    "    y=pd.get_dummies(df['income'])\n",
    "    y=y.iloc[:,1].values\n",
    "    \n",
    "    # Train Test Split\n",
    "\n",
    "    X_train, X_test, y_train, y_test = train_test_split(X, y, test_size=0.2, random_state=2)\n",
    "    \n",
    "    return X_train, X_test, y_train, y_test;"
   ]
  },
  {
   "cell_type": "code",
   "execution_count": 3,
   "metadata": {
    "scrolled": true
   },
   "outputs": [],
   "source": [
    "def evaluate(y_test, pred, text):\n",
    "    from sklearn.metrics import precision_score, recall_score, accuracy_score, confusion_matrix, f1_score\n",
    "    import matplotlib.pyplot as plt\n",
    "    import seaborn as sns\n",
    "    \n",
    "    accuracy = accuracy_score(y_test, pred)\n",
    "    print('Accuracy: %f' % accuracy)\n",
    "    \n",
    "    precision = precision_score(y_test, pred)\n",
    "    print('Precision: %f' % precision)\n",
    "    \n",
    "    recall = recall_score(y_test, pred)\n",
    "    print('Recall: %f' % recall)\n",
    "    \n",
    "    f1 = f1_score(y_test, pred)\n",
    "    print('F1 score: %f' % f1)\n",
    "\n",
    "    conf_mat = confusion_matrix(y_test, pred)\n",
    "#     fig, ax = plt.subplots(figsize=(8,8))\n",
    "    sns.heatmap(conf_mat, annot=True, cmap=\"Blues\", fmt='d')\n",
    "    plt.ylabel('Actual')\n",
    "    plt.xlabel('Predicted')\n",
    "    plt.title(\"Confusion matrix - \" + text, size=16);\n",
    "    print();"
   ]
  }
 ],
 "metadata": {
  "kernelspec": {
   "display_name": "Python 3",
   "language": "python",
   "name": "python3"
  },
  "language_info": {
   "codemirror_mode": {
    "name": "ipython",
    "version": 3
   },
   "file_extension": ".py",
   "mimetype": "text/x-python",
   "name": "python",
   "nbconvert_exporter": "python",
   "pygments_lexer": "ipython3",
   "version": "3.8.5"
  }
 },
 "nbformat": 4,
 "nbformat_minor": 4
}
