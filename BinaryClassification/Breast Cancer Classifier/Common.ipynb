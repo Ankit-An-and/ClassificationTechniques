{
 "cells": [
  {
   "cell_type": "code",
   "execution_count": 1,
   "metadata": {},
   "outputs": [],
   "source": [
    "import pandas as pd\n",
    "import numpy as np\n",
    "from sklearn.model_selection import train_test_split\n",
    "from sklearn.feature_extraction.text import TfidfVectorizer"
   ]
  },
  {
   "cell_type": "code",
   "execution_count": 2,
   "metadata": {},
   "outputs": [],
   "source": [
    "# Pre-process data\n",
    "def preprocess_data(data):\n",
    "    \n",
    "    # Drop junk data\n",
    "    \n",
    "    data = data.replace('?', np.nan)\n",
    "    data = data.dropna().reset_index(drop=True)\n",
    "    \n",
    "    # Feature X and target y\n",
    "\n",
    "    cv = TfidfVectorizer()\n",
    "    X = data.drop(['id' , 'class'], axis=1)\n",
    "    y = pd.get_dummies(data['class'])\n",
    "    y=y.iloc[:,1].values\n",
    "    \n",
    "    # Train Test Split\n",
    "    X_train, X_test, y_train, y_test = train_test_split(X, y, test_size = 0.20, random_state = 0)\n",
    "    \n",
    "    return X_train, X_test, y_train, y_test;"
   ]
  },
  {
   "cell_type": "code",
   "execution_count": 3,
   "metadata": {},
   "outputs": [],
   "source": [
    "def evaluate(y_test, pred, text):\n",
    "    from sklearn.metrics import precision_score, recall_score, accuracy_score, confusion_matrix, f1_score\n",
    "    import matplotlib.pyplot as plt\n",
    "    import seaborn as sns\n",
    "    \n",
    "    accuracy = accuracy_score(y_test, pred)\n",
    "    print('Accuracy: %f' % accuracy)\n",
    "    \n",
    "    precision = precision_score(y_test, pred)\n",
    "    print('Precision: %f' % precision)\n",
    "    \n",
    "    recall = recall_score(y_test, pred)\n",
    "    print('Recall: %f' % recall)\n",
    "    \n",
    "    f1 = f1_score(y_test, pred)\n",
    "    print('F1 score: %f' % f1)\n",
    "\n",
    "    conf_mat = confusion_matrix(y_test, pred)\n",
    "#     fig, ax = plt.subplots(figsize=(8,8))\n",
    "    sns.heatmap(conf_mat, annot=True, cmap=\"Blues\", fmt='d')\n",
    "    plt.ylabel('Actual')\n",
    "    plt.xlabel('Predicted')\n",
    "    plt.title(\"Confusion matrix - \" + text, size=16);\n",
    "    print();"
   ]
  }
 ],
 "metadata": {
  "kernelspec": {
   "display_name": "Python 3",
   "language": "python",
   "name": "python3"
  },
  "language_info": {
   "codemirror_mode": {
    "name": "ipython",
    "version": 3
   },
   "file_extension": ".py",
   "mimetype": "text/x-python",
   "name": "python",
   "nbconvert_exporter": "python",
   "pygments_lexer": "ipython3",
   "version": "3.8.5"
  }
 },
 "nbformat": 4,
 "nbformat_minor": 4
}
