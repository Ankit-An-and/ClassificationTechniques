{
 "cells": [
  {
   "cell_type": "code",
   "execution_count": 1,
   "metadata": {},
   "outputs": [],
   "source": [
    "from ipynb.fs.full.Common import evaluate\n",
    "import pandas as pd\n",
    "import numpy as np\n",
    "from sklearn.tree import DecisionTreeClassifier\n",
    "import joblib"
   ]
  },
  {
   "cell_type": "code",
   "execution_count": 2,
   "metadata": {},
   "outputs": [],
   "source": [
    "# Read data\n",
    "\n",
    "loaded = np.load('breast_cancer_data.npz', allow_pickle=True)"
   ]
  },
  {
   "cell_type": "code",
   "execution_count": 3,
   "metadata": {},
   "outputs": [],
   "source": [
    "# Split Data\n",
    "\n",
    "X_train = loaded['Xtrain']\n",
    "X_test = loaded['Xtest']\n",
    "y_train = loaded['ytrain']\n",
    "y_test = loaded['ytest']"
   ]
  },
  {
   "cell_type": "code",
   "execution_count": 4,
   "metadata": {},
   "outputs": [
    {
     "name": "stdout",
     "output_type": "stream",
     "text": [
      "1 : 0.9781021897810219\n",
      "2 : 0.948905109489051\n",
      "3 : 0.9708029197080292\n",
      "4 : 0.9708029197080292\n",
      "5 : 0.9708029197080292\n",
      "6 : 0.9562043795620438\n",
      "7 : 0.9708029197080292\n",
      "8 : 0.9562043795620438\n",
      "9 : 0.9635036496350365\n",
      "10 : 0.948905109489051\n",
      "11 : 0.9562043795620438\n",
      "12 : 0.948905109489051\n",
      "13 : 0.948905109489051\n",
      "14 : 0.9416058394160584\n",
      "15 : 0.948905109489051\n",
      "16 : 0.9416058394160584\n",
      "17 : 0.948905109489051\n",
      "18 : 0.9416058394160584\n",
      "19 : 0.948905109489051\n"
     ]
    }
   ],
   "source": [
    "# K Nearest Neighbours Classifier\n",
    "\n",
    "from sklearn.neighbors import KNeighborsClassifier\n",
    "from sklearn.metrics import accuracy_score\n",
    "\n",
    "accuracy_final = 0\n",
    "pred_final = []\n",
    "n = 1\n",
    "\n",
    "for i in range(1, 20):\n",
    "    knn = KNeighborsClassifier(n_neighbors=i)\n",
    "    model = knn.fit(X_train, y_train)\n",
    "    pred = model.predict(X_test)\n",
    "    accuracy = accuracy_score(y_test, pred)\n",
    "    print(str(i) + ' : ' + str(accuracy))\n",
    "    if accuracy > accuracy_final:\n",
    "        accuracy_final = accuracy\n",
    "        model_final = model"
   ]
  },
  {
   "cell_type": "code",
   "execution_count": 5,
   "metadata": {},
   "outputs": [
    {
     "data": {
      "text/plain": [
       "['breast_cancer_knn.joblib']"
      ]
     },
     "execution_count": 5,
     "metadata": {},
     "output_type": "execute_result"
    }
   ],
   "source": [
    "# Save Model\n",
    "\n",
    "joblib.dump(model_final, 'breast_cancer_knn.joblib')"
   ]
  }
 ],
 "metadata": {
  "kernelspec": {
   "display_name": "Python 3",
   "language": "python",
   "name": "python3"
  },
  "language_info": {
   "codemirror_mode": {
    "name": "ipython",
    "version": 3
   },
   "file_extension": ".py",
   "mimetype": "text/x-python",
   "name": "python",
   "nbconvert_exporter": "python",
   "pygments_lexer": "ipython3",
   "version": "3.8.5"
  }
 },
 "nbformat": 4,
 "nbformat_minor": 4
}
