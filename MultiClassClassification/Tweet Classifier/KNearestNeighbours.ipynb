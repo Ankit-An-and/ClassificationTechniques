{
 "cells": [
  {
   "cell_type": "code",
   "execution_count": 1,
   "metadata": {},
   "outputs": [],
   "source": [
    "from ipynb.fs.full.Common import evaluate\n",
    "import pandas as pd\n",
    "import numpy as np\n",
    "import joblib"
   ]
  },
  {
   "cell_type": "code",
   "execution_count": 2,
   "metadata": {},
   "outputs": [],
   "source": [
    "# Read data\n",
    "\n",
    "loaded = np.load('tweet_data.npz', allow_pickle=True)\n",
    "\n",
    "# Split Data\n",
    "\n",
    "X_train = loaded['Xtrain']\n",
    "y_train = loaded['ytrain']\n",
    "X_test = loaded['Xtest']\n",
    "y_test = loaded['ytest']"
   ]
  },
  {
   "cell_type": "code",
   "execution_count": 3,
   "metadata": {},
   "outputs": [
    {
     "name": "stdout",
     "output_type": "stream",
     "text": [
      "1 : 0.37\n",
      "2 : 0.37166666666666665\n",
      "3 : 0.3522222222222222\n",
      "4 : 0.3511111111111111\n",
      "5 : 0.3477777777777778\n",
      "6 : 0.34444444444444444\n",
      "7 : 0.3416666666666667\n",
      "8 : 0.3372222222222222\n",
      "9 : 0.33666666666666667\n",
      "10 : 0.33611111111111114\n",
      "11 : 0.33555555555555555\n",
      "12 : 0.33555555555555555\n",
      "13 : 0.33555555555555555\n",
      "14 : 0.33444444444444443\n",
      "15 : 0.3338888888888889\n",
      "16 : 0.3333333333333333\n",
      "17 : 0.3333333333333333\n",
      "18 : 0.3322222222222222\n",
      "19 : 0.3322222222222222\n"
     ]
    }
   ],
   "source": [
    "# K Nearest Neighbours Classifier\n",
    "\n",
    "from sklearn.neighbors import KNeighborsClassifier\n",
    "from sklearn.metrics import accuracy_score\n",
    "\n",
    "accuracy_final = 0\n",
    "pred_final = []\n",
    "n = 1\n",
    "\n",
    "for i in range(1, 20):\n",
    "    knn = KNeighborsClassifier(n_neighbors=i)\n",
    "    model = knn.fit(X_train, y_train)\n",
    "    pred = model.predict(X_test)\n",
    "    accuracy = accuracy_score(y_test, pred)\n",
    "    print(str(i) + \" : \" + str(accuracy))\n",
    "    if accuracy > accuracy_final:\n",
    "        accuracy_final = accuracy\n",
    "        n = i\n",
    "        model_final = model"
   ]
  },
  {
   "cell_type": "code",
   "execution_count": 4,
   "metadata": {},
   "outputs": [
    {
     "data": {
      "text/plain": [
       "['tweet_knn.joblib']"
      ]
     },
     "execution_count": 4,
     "metadata": {},
     "output_type": "execute_result"
    }
   ],
   "source": [
    "# Save Model\n",
    "\n",
    "joblib.dump(model_final, 'tweet_knn.joblib')"
   ]
  }
 ],
 "metadata": {
  "kernelspec": {
   "display_name": "Python 3",
   "language": "python",
   "name": "python3"
  },
  "language_info": {
   "codemirror_mode": {
    "name": "ipython",
    "version": 3
   },
   "file_extension": ".py",
   "mimetype": "text/x-python",
   "name": "python",
   "nbconvert_exporter": "python",
   "pygments_lexer": "ipython3",
   "version": "3.8.5"
  }
 },
 "nbformat": 4,
 "nbformat_minor": 4
}
