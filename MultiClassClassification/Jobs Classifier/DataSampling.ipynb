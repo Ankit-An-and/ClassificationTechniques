{
 "cells": [
  {
   "cell_type": "code",
   "execution_count": 21,
   "metadata": {},
   "outputs": [],
   "source": [
    "# Sampling\n",
    "# Read Data\n",
    "\n",
    "import pandas as pd\n",
    "from ipynb.fs.full.Common import preprocess_data, evaluate\n",
    "\n",
    "df = pd.read_csv('jobs.csv')"
   ]
  },
  {
   "cell_type": "code",
   "execution_count": 22,
   "metadata": {},
   "outputs": [],
   "source": [
    "df = df[['job_description', 'job_title', 'category']]"
   ]
  },
  {
   "cell_type": "code",
   "execution_count": 23,
   "metadata": {},
   "outputs": [],
   "source": [
    "df['description'] = df['job_title'] + ' ' + df['job_description']"
   ]
  },
  {
   "cell_type": "code",
   "execution_count": 24,
   "metadata": {},
   "outputs": [],
   "source": [
    "df = df[['description', 'category']]"
   ]
  },
  {
   "cell_type": "code",
   "execution_count": 25,
   "metadata": {},
   "outputs": [],
   "source": [
    "df = df.dropna().reset_index(drop=True)"
   ]
  },
  {
   "cell_type": "code",
   "execution_count": 26,
   "metadata": {},
   "outputs": [
    {
     "data": {
      "text/html": [
       "<div>\n",
       "<style scoped>\n",
       "    .dataframe tbody tr th:only-of-type {\n",
       "        vertical-align: middle;\n",
       "    }\n",
       "\n",
       "    .dataframe tbody tr th {\n",
       "        vertical-align: top;\n",
       "    }\n",
       "\n",
       "    .dataframe thead th {\n",
       "        text-align: right;\n",
       "    }\n",
       "</style>\n",
       "<table border=\"1\" class=\"dataframe\">\n",
       "  <thead>\n",
       "    <tr style=\"text-align: right;\">\n",
       "      <th></th>\n",
       "      <th>description</th>\n",
       "      <th>category</th>\n",
       "    </tr>\n",
       "  </thead>\n",
       "  <tbody>\n",
       "    <tr>\n",
       "      <th>0</th>\n",
       "      <td>Business Development Executive Job Description...</td>\n",
       "      <td>Sales</td>\n",
       "    </tr>\n",
       "    <tr>\n",
       "      <th>1</th>\n",
       "      <td>BPO Hindi Call Center ( CCE ) BPO JOB Fresher ...</td>\n",
       "      <td>ITES</td>\n",
       "    </tr>\n",
       "    <tr>\n",
       "      <th>2</th>\n",
       "      <td>Opening For Hr-recruitment Exe-health Insuranc...</td>\n",
       "      <td>HR</td>\n",
       "    </tr>\n",
       "    <tr>\n",
       "      <th>3</th>\n",
       "      <td>BCMA - Business Analyst &amp;lt;P&amp;gt; &amp;lt;B&amp;gt; Co...</td>\n",
       "      <td>ITES</td>\n",
       "    </tr>\n",
       "    <tr>\n",
       "      <th>4</th>\n",
       "      <td>Centre Manager - Equity / Channel Sales (franc...</td>\n",
       "      <td>Sales</td>\n",
       "    </tr>\n",
       "  </tbody>\n",
       "</table>\n",
       "</div>"
      ],
      "text/plain": [
       "                                         description category\n",
       "0  Business Development Executive Job Description...    Sales\n",
       "1  BPO Hindi Call Center ( CCE ) BPO JOB Fresher ...     ITES\n",
       "2  Opening For Hr-recruitment Exe-health Insuranc...       HR\n",
       "3  BCMA - Business Analyst &lt;P&gt; &lt;B&gt; Co...     ITES\n",
       "4  Centre Manager - Equity / Channel Sales (franc...    Sales"
      ]
     },
     "execution_count": 26,
     "metadata": {},
     "output_type": "execute_result"
    }
   ],
   "source": [
    "df.head()"
   ]
  },
  {
   "cell_type": "code",
   "execution_count": 27,
   "metadata": {},
   "outputs": [
    {
     "data": {
      "text/plain": [
       "array(['Sales', 'ITES', 'HR', 'IT Software - Application Programming',\n",
       "       'O', 'IT Software - DBA', 'IT Software - ERP', 'Design',\n",
       "       'Accounts', 'IT Software - Network Administration', 'TV',\n",
       "       'Marketing', 'Medical', 'Financial Services',\n",
       "       'IT Software - Systems', 'I', 'Journalism', 'Teaching', 'Travel',\n",
       "       'Engineering Design', 'Executive Assistant', 'Strategy',\n",
       "       'Supply Chain', 'Site Engineering', 'T', 'Production', 'P',\n",
       "       'Defence Forces', 'Hotels', 'IT Software - eCommerce',\n",
       "       'IT Software - Embedded', 'IT Hardware', 'A', 'Q', 'S', 'V',\n",
       "       'Architecture', 'Export', 'C', 'Legal', 'Self Employed',\n",
       "       'Fashion Designing', 'B', 'R', 'F', 'U', 'M', 'H'], dtype=object)"
      ]
     },
     "execution_count": 27,
     "metadata": {},
     "output_type": "execute_result"
    }
   ],
   "source": [
    "df['category'].unique()"
   ]
  },
  {
   "cell_type": "code",
   "execution_count": 28,
   "metadata": {},
   "outputs": [],
   "source": [
    "df.loc[df['category'].str.contains('IT Software'), 'category'] = 'IT Software'"
   ]
  },
  {
   "cell_type": "code",
   "execution_count": 29,
   "metadata": {},
   "outputs": [
    {
     "data": {
      "text/plain": [
       "array(['Sales', 'ITES', 'HR', 'IT Software', 'O', 'Design', 'Accounts',\n",
       "       'TV', 'Marketing', 'Medical', 'Financial Services', 'I',\n",
       "       'Journalism', 'Teaching', 'Travel', 'Engineering Design',\n",
       "       'Executive Assistant', 'Strategy', 'Supply Chain',\n",
       "       'Site Engineering', 'T', 'Production', 'P', 'Defence Forces',\n",
       "       'Hotels', 'IT Hardware', 'A', 'Q', 'S', 'V', 'Architecture',\n",
       "       'Export', 'C', 'Legal', 'Self Employed', 'Fashion Designing', 'B',\n",
       "       'R', 'F', 'U', 'M', 'H'], dtype=object)"
      ]
     },
     "execution_count": 29,
     "metadata": {},
     "output_type": "execute_result"
    }
   ],
   "source": [
    "df['category'].unique()"
   ]
  },
  {
   "cell_type": "code",
   "execution_count": 34,
   "metadata": {},
   "outputs": [],
   "source": [
    "index = df[(df['category'].str.len() == 1)].index"
   ]
  },
  {
   "cell_type": "code",
   "execution_count": 35,
   "metadata": {},
   "outputs": [],
   "source": [
    "df.drop(index , inplace=True)"
   ]
  },
  {
   "cell_type": "code",
   "execution_count": 36,
   "metadata": {},
   "outputs": [
    {
     "data": {
      "text/plain": [
       "array(['Sales', 'ITES', 'HR', 'IT Software', 'Design', 'Accounts', 'TV',\n",
       "       'Marketing', 'Medical', 'Financial Services', 'Journalism',\n",
       "       'Teaching', 'Travel', 'Engineering Design', 'Executive Assistant',\n",
       "       'Strategy', 'Supply Chain', 'Site Engineering', 'Production',\n",
       "       'Defence Forces', 'Hotels', 'IT Hardware', 'Architecture',\n",
       "       'Export', 'Legal', 'Self Employed', 'Fashion Designing'],\n",
       "      dtype=object)"
      ]
     },
     "execution_count": 36,
     "metadata": {},
     "output_type": "execute_result"
    }
   ],
   "source": [
    "df['category'].unique()"
   ]
  },
  {
   "cell_type": "code",
   "execution_count": 37,
   "metadata": {},
   "outputs": [
    {
     "data": {
      "text/html": [
       "<div>\n",
       "<style scoped>\n",
       "    .dataframe tbody tr th:only-of-type {\n",
       "        vertical-align: middle;\n",
       "    }\n",
       "\n",
       "    .dataframe tbody tr th {\n",
       "        vertical-align: top;\n",
       "    }\n",
       "\n",
       "    .dataframe thead th {\n",
       "        text-align: right;\n",
       "    }\n",
       "</style>\n",
       "<table border=\"1\" class=\"dataframe\">\n",
       "  <thead>\n",
       "    <tr style=\"text-align: right;\">\n",
       "      <th></th>\n",
       "      <th>description</th>\n",
       "      <th>category</th>\n",
       "    </tr>\n",
       "  </thead>\n",
       "  <tbody>\n",
       "    <tr>\n",
       "      <th>count</th>\n",
       "      <td>26759</td>\n",
       "      <td>26759</td>\n",
       "    </tr>\n",
       "    <tr>\n",
       "      <th>unique</th>\n",
       "      <td>25208</td>\n",
       "      <td>27</td>\n",
       "    </tr>\n",
       "    <tr>\n",
       "      <th>top</th>\n",
       "      <td>Assistant Business Process Services &amp;lt;P&amp;gt; ...</td>\n",
       "      <td>IT Software</td>\n",
       "    </tr>\n",
       "    <tr>\n",
       "      <th>freq</th>\n",
       "      <td>14</td>\n",
       "      <td>10185</td>\n",
       "    </tr>\n",
       "  </tbody>\n",
       "</table>\n",
       "</div>"
      ],
      "text/plain": [
       "                                              description     category\n",
       "count                                               26759        26759\n",
       "unique                                              25208           27\n",
       "top     Assistant Business Process Services &lt;P&gt; ...  IT Software\n",
       "freq                                                   14        10185"
      ]
     },
     "execution_count": 37,
     "metadata": {},
     "output_type": "execute_result"
    }
   ],
   "source": [
    "df.describe()"
   ]
  },
  {
   "cell_type": "code",
   "execution_count": 75,
   "metadata": {},
   "outputs": [],
   "source": [
    "df_1 = df.loc[df['category'] == 'Sales']\n",
    "df_2 = df.loc[df['category'] == 'ITES']\n",
    "df_3 = df.loc[df['category'] == 'HR']\n",
    "df_4 = df.loc[df['category'] == 'IT Software']\n",
    "df_5 = df.loc[df['category'] == 'Design']\n",
    "df_6 = df.loc[df['category'] == 'Accounts']\n",
    "df_7 = df.loc[df['category'] == 'TV']\n",
    "df_8 = df.loc[df['category'] == 'Marketing']\n",
    "df_9 = df.loc[df['category'] == 'Medical']\n",
    "df_10 = df.loc[df['category'] == 'Financial Services']\n",
    "df_11 = df.loc[df['category'] == 'Journalism']\n",
    "df_12 = df.loc[df['category'] == 'Teaching']\n",
    "df_13 = df.loc[df['category'] == 'Travel']\n",
    "df_14 = df.loc[df['category'] == 'Engineering Design']\n",
    "df_15 = df.loc[df['category'] == 'Executive Assistant']\n",
    "df_16 = df.loc[df['category'] == 'Strategy']\n",
    "df_17 = df.loc[df['category'] == 'Supply Chain']\n",
    "df_18 = df.loc[df['category'] == 'Site Engineering']\n",
    "df_19 = df.loc[df['category'] == 'Production']\n",
    "df_20 = df.loc[df['category'] == 'Defence Forces']\n",
    "df_21 = df.loc[df['category'] == 'Hotels']\n",
    "df_22 = df.loc[df['category'] == 'IT Hardware']\n",
    "df_23 = df.loc[df['category'] == 'Architecture']\n",
    "df_24 = df.loc[df['category'] == 'Export']\n",
    "df_25 = df.loc[df['category'] == 'Legal']\n",
    "df_26 = df.loc[df['category'] == 'Self Employed']\n",
    "df_27 = df.loc[df['category'] == 'Fashion Designing']"
   ]
  },
  {
   "cell_type": "code",
   "execution_count": 76,
   "metadata": {},
   "outputs": [],
   "source": [
    "df_1 = df_1.sample(n=500, random_state=3)\n",
    "df_2 = df_2.sample(n=500, random_state=3)\n",
    "df_3 = df_3.sample(n=500, random_state=3)\n",
    "df_4 = df_4.sample(n=500, random_state=3)\n",
    "df_6 = df_6.sample(n=500, random_state=3)\n",
    "df_8 = df_8.sample(n=500, random_state=3)\n",
    "df_9 = df_9.sample(n=500, random_state=3)\n",
    "df_10 = df_10.sample(n=500, random_state=3)\n",
    "df_12 = df_12.sample(n=500, random_state=3)\n",
    "df_19 = df_19.sample(n=500, random_state=3)"
   ]
  },
  {
   "cell_type": "code",
   "execution_count": 77,
   "metadata": {},
   "outputs": [],
   "source": [
    "df = pd.concat([df_1, df_2, df_3, df_4, df_6, df_8, df_9, df_10, df_12, df_19])"
   ]
  },
  {
   "cell_type": "code",
   "execution_count": 78,
   "metadata": {},
   "outputs": [
    {
     "data": {
      "text/html": [
       "<div>\n",
       "<style scoped>\n",
       "    .dataframe tbody tr th:only-of-type {\n",
       "        vertical-align: middle;\n",
       "    }\n",
       "\n",
       "    .dataframe tbody tr th {\n",
       "        vertical-align: top;\n",
       "    }\n",
       "\n",
       "    .dataframe thead th {\n",
       "        text-align: right;\n",
       "    }\n",
       "</style>\n",
       "<table border=\"1\" class=\"dataframe\">\n",
       "  <thead>\n",
       "    <tr style=\"text-align: right;\">\n",
       "      <th></th>\n",
       "      <th>description</th>\n",
       "      <th>category</th>\n",
       "    </tr>\n",
       "  </thead>\n",
       "  <tbody>\n",
       "    <tr>\n",
       "      <th>17586</th>\n",
       "      <td>Client Partner 3Pillar Global is in search of ...</td>\n",
       "      <td>Sales</td>\n",
       "    </tr>\n",
       "    <tr>\n",
       "      <th>14278</th>\n",
       "      <td>Field Sales Associates Job Description:-&amp;lt;br...</td>\n",
       "      <td>Sales</td>\n",
       "    </tr>\n",
       "    <tr>\n",
       "      <th>5275</th>\n",
       "      <td>Sales Consultant Designation - Sales Consultan...</td>\n",
       "      <td>Sales</td>\n",
       "    </tr>\n",
       "    <tr>\n",
       "      <th>26271</th>\n",
       "      <td>Sales,Chemical/Aroma,B2B,Ahemdabad,Delhi,Banga...</td>\n",
       "      <td>Sales</td>\n",
       "    </tr>\n",
       "    <tr>\n",
       "      <th>26496</th>\n",
       "      <td>Marketing Executive &amp;lt;ol&amp;gt; &amp;lt;li&amp;gt; Prom...</td>\n",
       "      <td>Sales</td>\n",
       "    </tr>\n",
       "    <tr>\n",
       "      <th>...</th>\n",
       "      <td>...</td>\n",
       "      <td>...</td>\n",
       "    </tr>\n",
       "    <tr>\n",
       "      <th>26027</th>\n",
       "      <td>Relationship Manager Openings for the post of ...</td>\n",
       "      <td>Sales</td>\n",
       "    </tr>\n",
       "    <tr>\n",
       "      <th>9800</th>\n",
       "      <td>Business Development Executive &amp;lt;div&amp;gt; Pos...</td>\n",
       "      <td>Sales</td>\n",
       "    </tr>\n",
       "    <tr>\n",
       "      <th>197</th>\n",
       "      <td>Business Development Manager Plan &amp;amp; execut...</td>\n",
       "      <td>Sales</td>\n",
       "    </tr>\n",
       "    <tr>\n",
       "      <th>5938</th>\n",
       "      <td>Senior Manager - Key Account Management - Indu...</td>\n",
       "      <td>Sales</td>\n",
       "    </tr>\n",
       "    <tr>\n",
       "      <th>1694</th>\n",
       "      <td>Assistant.sales Manager- Export &amp;lt;div&amp;gt; &amp;l...</td>\n",
       "      <td>Sales</td>\n",
       "    </tr>\n",
       "  </tbody>\n",
       "</table>\n",
       "<p>500 rows × 2 columns</p>\n",
       "</div>"
      ],
      "text/plain": [
       "                                             description category\n",
       "17586  Client Partner 3Pillar Global is in search of ...    Sales\n",
       "14278  Field Sales Associates Job Description:-&lt;br...    Sales\n",
       "5275   Sales Consultant Designation - Sales Consultan...    Sales\n",
       "26271  Sales,Chemical/Aroma,B2B,Ahemdabad,Delhi,Banga...    Sales\n",
       "26496  Marketing Executive &lt;ol&gt; &lt;li&gt; Prom...    Sales\n",
       "...                                                  ...      ...\n",
       "26027  Relationship Manager Openings for the post of ...    Sales\n",
       "9800   Business Development Executive &lt;div&gt; Pos...    Sales\n",
       "197    Business Development Manager Plan &amp; execut...    Sales\n",
       "5938   Senior Manager - Key Account Management - Indu...    Sales\n",
       "1694   Assistant.sales Manager- Export &lt;div&gt; &l...    Sales\n",
       "\n",
       "[500 rows x 2 columns]"
      ]
     },
     "execution_count": 78,
     "metadata": {},
     "output_type": "execute_result"
    }
   ],
   "source": [
    "df.head(500)"
   ]
  },
  {
   "cell_type": "code",
   "execution_count": 79,
   "metadata": {},
   "outputs": [
    {
     "name": "stdout",
     "output_type": "stream",
     "text": [
      "<class 'pandas.core.frame.DataFrame'>\n",
      "Int64Index: 5000 entries, 17586 to 17461\n",
      "Data columns (total 2 columns):\n",
      " #   Column       Non-Null Count  Dtype \n",
      "---  ------       --------------  ----- \n",
      " 0   description  5000 non-null   object\n",
      " 1   category     5000 non-null   object\n",
      "dtypes: object(2)\n",
      "memory usage: 117.2+ KB\n"
     ]
    }
   ],
   "source": [
    "df.info()"
   ]
  },
  {
   "cell_type": "code",
   "execution_count": 84,
   "metadata": {},
   "outputs": [],
   "source": [
    "df.to_csv('jobs_sample.csv', index = False, header = True)"
   ]
  },
  {
   "cell_type": "code",
   "execution_count": 81,
   "metadata": {},
   "outputs": [
    {
     "data": {
      "text/html": [
       "<div>\n",
       "<style scoped>\n",
       "    .dataframe tbody tr th:only-of-type {\n",
       "        vertical-align: middle;\n",
       "    }\n",
       "\n",
       "    .dataframe tbody tr th {\n",
       "        vertical-align: top;\n",
       "    }\n",
       "\n",
       "    .dataframe thead th {\n",
       "        text-align: right;\n",
       "    }\n",
       "</style>\n",
       "<table border=\"1\" class=\"dataframe\">\n",
       "  <thead>\n",
       "    <tr style=\"text-align: right;\">\n",
       "      <th></th>\n",
       "      <th>description</th>\n",
       "      <th>category</th>\n",
       "    </tr>\n",
       "  </thead>\n",
       "  <tbody>\n",
       "    <tr>\n",
       "      <th>count</th>\n",
       "      <td>5000</td>\n",
       "      <td>5000</td>\n",
       "    </tr>\n",
       "    <tr>\n",
       "      <th>unique</th>\n",
       "      <td>4866</td>\n",
       "      <td>10</td>\n",
       "    </tr>\n",
       "    <tr>\n",
       "      <th>top</th>\n",
       "      <td>Medical Coordinator - MBBS - Hospital Job Resp...</td>\n",
       "      <td>Teaching</td>\n",
       "    </tr>\n",
       "    <tr>\n",
       "      <th>freq</th>\n",
       "      <td>3</td>\n",
       "      <td>500</td>\n",
       "    </tr>\n",
       "  </tbody>\n",
       "</table>\n",
       "</div>"
      ],
      "text/plain": [
       "                                              description  category\n",
       "count                                                5000      5000\n",
       "unique                                               4866        10\n",
       "top     Medical Coordinator - MBBS - Hospital Job Resp...  Teaching\n",
       "freq                                                    3       500"
      ]
     },
     "execution_count": 81,
     "metadata": {},
     "output_type": "execute_result"
    }
   ],
   "source": [
    "df.describe()"
   ]
  },
  {
   "cell_type": "code",
   "execution_count": 82,
   "metadata": {},
   "outputs": [
    {
     "data": {
      "text/html": [
       "<div>\n",
       "<style scoped>\n",
       "    .dataframe tbody tr th:only-of-type {\n",
       "        vertical-align: middle;\n",
       "    }\n",
       "\n",
       "    .dataframe tbody tr th {\n",
       "        vertical-align: top;\n",
       "    }\n",
       "\n",
       "    .dataframe thead th {\n",
       "        text-align: right;\n",
       "    }\n",
       "</style>\n",
       "<table border=\"1\" class=\"dataframe\">\n",
       "  <thead>\n",
       "    <tr style=\"text-align: right;\">\n",
       "      <th></th>\n",
       "      <th>description</th>\n",
       "      <th>category</th>\n",
       "    </tr>\n",
       "  </thead>\n",
       "  <tbody>\n",
       "    <tr>\n",
       "      <th>17586</th>\n",
       "      <td>Client Partner 3Pillar Global is in search of ...</td>\n",
       "      <td>Sales</td>\n",
       "    </tr>\n",
       "    <tr>\n",
       "      <th>14278</th>\n",
       "      <td>Field Sales Associates Job Description:-&amp;lt;br...</td>\n",
       "      <td>Sales</td>\n",
       "    </tr>\n",
       "    <tr>\n",
       "      <th>5275</th>\n",
       "      <td>Sales Consultant Designation - Sales Consultan...</td>\n",
       "      <td>Sales</td>\n",
       "    </tr>\n",
       "    <tr>\n",
       "      <th>26271</th>\n",
       "      <td>Sales,Chemical/Aroma,B2B,Ahemdabad,Delhi,Banga...</td>\n",
       "      <td>Sales</td>\n",
       "    </tr>\n",
       "    <tr>\n",
       "      <th>26496</th>\n",
       "      <td>Marketing Executive &amp;lt;ol&amp;gt; &amp;lt;li&amp;gt; Prom...</td>\n",
       "      <td>Sales</td>\n",
       "    </tr>\n",
       "    <tr>\n",
       "      <th>...</th>\n",
       "      <td>...</td>\n",
       "      <td>...</td>\n",
       "    </tr>\n",
       "    <tr>\n",
       "      <th>15715</th>\n",
       "      <td>Looking For Quality Engineers Analyze quality ...</td>\n",
       "      <td>Production</td>\n",
       "    </tr>\n",
       "    <tr>\n",
       "      <th>17339</th>\n",
       "      <td>Maintenance Engineer - Mechanical Job Descript...</td>\n",
       "      <td>Production</td>\n",
       "    </tr>\n",
       "    <tr>\n",
       "      <th>19188</th>\n",
       "      <td>Assistant Manager Technical Analyzing fit\\r&amp;lt...</td>\n",
       "      <td>Production</td>\n",
       "    </tr>\n",
       "    <tr>\n",
       "      <th>20554</th>\n",
       "      <td>Quality Inspector Quality Inspector must have ...</td>\n",
       "      <td>Production</td>\n",
       "    </tr>\n",
       "    <tr>\n",
       "      <th>17461</th>\n",
       "      <td>Senior Manufacturing Engineer &amp;lt;P style=\"FON...</td>\n",
       "      <td>Production</td>\n",
       "    </tr>\n",
       "  </tbody>\n",
       "</table>\n",
       "<p>5000 rows × 2 columns</p>\n",
       "</div>"
      ],
      "text/plain": [
       "                                             description    category\n",
       "17586  Client Partner 3Pillar Global is in search of ...       Sales\n",
       "14278  Field Sales Associates Job Description:-&lt;br...       Sales\n",
       "5275   Sales Consultant Designation - Sales Consultan...       Sales\n",
       "26271  Sales,Chemical/Aroma,B2B,Ahemdabad,Delhi,Banga...       Sales\n",
       "26496  Marketing Executive &lt;ol&gt; &lt;li&gt; Prom...       Sales\n",
       "...                                                  ...         ...\n",
       "15715  Looking For Quality Engineers Analyze quality ...  Production\n",
       "17339  Maintenance Engineer - Mechanical Job Descript...  Production\n",
       "19188  Assistant Manager Technical Analyzing fit\\r&lt...  Production\n",
       "20554  Quality Inspector Quality Inspector must have ...  Production\n",
       "17461  Senior Manufacturing Engineer &lt;P style=\"FON...  Production\n",
       "\n",
       "[5000 rows x 2 columns]"
      ]
     },
     "execution_count": 82,
     "metadata": {},
     "output_type": "execute_result"
    }
   ],
   "source": [
    "df"
   ]
  },
  {
   "cell_type": "code",
   "execution_count": null,
   "metadata": {},
   "outputs": [],
   "source": []
  }
 ],
 "metadata": {
  "kernelspec": {
   "display_name": "Python 3",
   "language": "python",
   "name": "python3"
  },
  "language_info": {
   "codemirror_mode": {
    "name": "ipython",
    "version": 3
   },
   "file_extension": ".py",
   "mimetype": "text/x-python",
   "name": "python",
   "nbconvert_exporter": "python",
   "pygments_lexer": "ipython3",
   "version": "3.8.5"
  }
 },
 "nbformat": 4,
 "nbformat_minor": 4
}
