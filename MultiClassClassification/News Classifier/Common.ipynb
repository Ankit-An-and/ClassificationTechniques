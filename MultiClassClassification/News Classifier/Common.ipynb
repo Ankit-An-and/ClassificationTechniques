{
 "cells": [
  {
   "cell_type": "code",
   "execution_count": 1,
   "metadata": {},
   "outputs": [],
   "source": [
    "import nltk\n",
    "from nltk.corpus import stopwords\n",
    "from nltk.stem.porter import PorterStemmer\n",
    "import re\n",
    "import pandas as pd\n",
    "from sklearn.feature_extraction.text import TfidfVectorizer\n",
    "from sklearn.model_selection import train_test_split\n",
    "from sklearn.preprocessing import LabelEncoder"
   ]
  },
  {
   "cell_type": "code",
   "execution_count": 2,
   "metadata": {},
   "outputs": [],
   "source": [
    "def preprocess_data(df):\n",
    "    stemmer = PorterStemmer()\n",
    "    corpus = []\n",
    "    # Data cleaning\n",
    "\n",
    "    # Remove duplicates\n",
    "\n",
    "    df = df.drop_duplicates([\"text\"]).reset_index(drop=True)\n",
    "\n",
    "    for i in range(0, len(df)):\n",
    "        item = re.sub('[^a-zA-Z]', ' ', df['text'][i])\n",
    "        item = item.lower().split()\n",
    "        item = [stemmer.stem(word) for word in item if not word in stopwords.words('english')]\n",
    "        item = ' '.join(item)\n",
    "        corpus.append(item)\n",
    "        \n",
    "    # Data pre-processing and split\n",
    "\n",
    "    cv = TfidfVectorizer(sublinear_tf=True, min_df=5, ngram_range=(1, 2), stop_words='english')\n",
    "    X = cv.fit_transform(corpus).toarray()\n",
    "    \n",
    "    labelencoder = LabelEncoder()\n",
    "    y = labelencoder.fit_transform(df['category'])\n",
    "    \n",
    "    # Train Test Split\n",
    "    \n",
    "    X_train, X_test, y_train, y_test = train_test_split(X, y, test_size = 0.20, random_state = 0)\n",
    "    \n",
    "    return X_train, X_test, y_train, y_test;"
   ]
  },
  {
   "cell_type": "code",
   "execution_count": 3,
   "metadata": {},
   "outputs": [],
   "source": [
    "def evaluate(y_test, pred, text):\n",
    "    from sklearn.metrics import classification_report, accuracy_score, confusion_matrix\n",
    "    import matplotlib.pyplot as plt\n",
    "    import seaborn as sns\n",
    "    \n",
    "    accuracy = accuracy_score(y_test, pred)\n",
    "    print('Accuracy: %f' % accuracy)\n",
    "    \n",
    "    print(\"Classification Report:\")\n",
    "    print(classification_report(y_test, pred, digits=3))\n",
    "\n",
    "    conf_mat = confusion_matrix(y_test, pred)\n",
    "#     fig, ax = plt.subplots(figsize=(8,8))\n",
    "    sns.heatmap(conf_mat, annot=True, cmap=\"Blues\", fmt='d')\n",
    "    plt.ylabel('Actual')\n",
    "    plt.xlabel('Predicted')\n",
    "    plt.title(\"Confusion matrix - \" + text, size=16);\n",
    "    print();"
   ]
  },
  {
   "cell_type": "code",
   "execution_count": null,
   "metadata": {},
   "outputs": [],
   "source": []
  }
 ],
 "metadata": {
  "kernelspec": {
   "display_name": "Python 3",
   "language": "python",
   "name": "python3"
  },
  "language_info": {
   "codemirror_mode": {
    "name": "ipython",
    "version": 3
   },
   "file_extension": ".py",
   "mimetype": "text/x-python",
   "name": "python",
   "nbconvert_exporter": "python",
   "pygments_lexer": "ipython3",
   "version": "3.8.5"
  }
 },
 "nbformat": 4,
 "nbformat_minor": 4
}
